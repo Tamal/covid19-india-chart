{
 "cells": [
  {
   "cell_type": "code",
   "execution_count": 1,
   "metadata": {},
   "outputs": [],
   "source": [
    "from dotenv import load_dotenv\n",
    "import os\n",
    "import pandas as pd\n",
    "import requests"
   ]
  },
  {
   "cell_type": "code",
   "execution_count": 2,
   "metadata": {},
   "outputs": [
    {
     "output_type": "execute_result",
     "data": {
      "text/plain": "   dailyconfirmed dailydeceased dailyrecovered       date totalconfirmed  \\\n95           3656           103           1082 2020-05-04          46434   \n96           2971           128           1295 2020-05-05          49405   \n97           3602            91           1161 2020-05-06          53007   \n98           3344           104           1475 2020-05-07          56351   \n99           3339            97           1111 2020-05-08          59690   \n\n   totaldeceased totalrecovered  \n95          1566          12845  \n96          1694          14140  \n97          1785          15301  \n98          1889          16776  \n99          1986          17887  ",
      "text/html": "<div>\n<style scoped>\n    .dataframe tbody tr th:only-of-type {\n        vertical-align: middle;\n    }\n\n    .dataframe tbody tr th {\n        vertical-align: top;\n    }\n\n    .dataframe thead th {\n        text-align: right;\n    }\n</style>\n<table border=\"1\" class=\"dataframe\">\n  <thead>\n    <tr style=\"text-align: right;\">\n      <th></th>\n      <th>dailyconfirmed</th>\n      <th>dailydeceased</th>\n      <th>dailyrecovered</th>\n      <th>date</th>\n      <th>totalconfirmed</th>\n      <th>totaldeceased</th>\n      <th>totalrecovered</th>\n    </tr>\n  </thead>\n  <tbody>\n    <tr>\n      <th>95</th>\n      <td>3656</td>\n      <td>103</td>\n      <td>1082</td>\n      <td>2020-05-04</td>\n      <td>46434</td>\n      <td>1566</td>\n      <td>12845</td>\n    </tr>\n    <tr>\n      <th>96</th>\n      <td>2971</td>\n      <td>128</td>\n      <td>1295</td>\n      <td>2020-05-05</td>\n      <td>49405</td>\n      <td>1694</td>\n      <td>14140</td>\n    </tr>\n    <tr>\n      <th>97</th>\n      <td>3602</td>\n      <td>91</td>\n      <td>1161</td>\n      <td>2020-05-06</td>\n      <td>53007</td>\n      <td>1785</td>\n      <td>15301</td>\n    </tr>\n    <tr>\n      <th>98</th>\n      <td>3344</td>\n      <td>104</td>\n      <td>1475</td>\n      <td>2020-05-07</td>\n      <td>56351</td>\n      <td>1889</td>\n      <td>16776</td>\n    </tr>\n    <tr>\n      <th>99</th>\n      <td>3339</td>\n      <td>97</td>\n      <td>1111</td>\n      <td>2020-05-08</td>\n      <td>59690</td>\n      <td>1986</td>\n      <td>17887</td>\n    </tr>\n  </tbody>\n</table>\n</div>"
     },
     "metadata": {},
     "execution_count": 2
    }
   ],
   "source": [
    "load_dotenv()\n",
    "API_URL = os.getenv('API_URL')\n",
    "r = requests.get(API_URL)\n",
    "data = r.json()\n",
    "df = pd.DataFrame(data['cases_time_series'])\n",
    "df['date'] = pd.to_datetime(df['date'].astype(str) + ' 2020')\n",
    "df.tail()"
   ]
  },
  {
   "cell_type": "code",
   "execution_count": 3,
   "metadata": {},
   "outputs": [],
   "source": [
    "# df.to_json('data/data.json')\n",
    "df.to_csv('data/data.csv', index=False)"
   ]
  },
  {
   "cell_type": "code",
   "execution_count": 4,
   "metadata": {},
   "outputs": [
    {
     "output_type": "execute_result",
     "data": {
      "text/plain": "   individualstestedperconfirmedcase positivecasesfromsamplesreported  \\\n56                                                                      \n57                                                                      \n58                                                                      \n59                                                                      \n60                                                                      \n\n   samplereportedtoday                                             source  \\\n56                      https://www.icmr.gov.in/pdf/covid/update/ICMR_...   \n57                      https://www.icmr.gov.in/pdf/covid/update/ICMR_...   \n58                      https://www.icmr.gov.in/pdf/covid/update/ICMR_...   \n59                      https://www.icmr.gov.in/pdf/covid/update/ICMR_...   \n60                      https://www.icmr.gov.in/pdf/covid/update/ICMR_...   \n\n   testpositivityrate testsconductedbyprivatelabs testsperconfirmedcase  \\\n56                                                                        \n57                                                                        \n58                                                                        \n59                                                                        \n60                                                                        \n\n   totalindividualstested totalpositivecases totalsamplestested  \\\n56                                                      1191946   \n57                                                      1276781   \n58                                                      1357413   \n59                                                      1437788   \n60                                                      1523213   \n\n        updatetimestamp  \n56  05/05/2020 09:00:00  \n57  06/05/2020 09:00:00  \n58  07/05/2020 09:00:00  \n59  08/05/2020 09:00:00  \n60  09/05/2020 09:00:00  ",
      "text/html": "<div>\n<style scoped>\n    .dataframe tbody tr th:only-of-type {\n        vertical-align: middle;\n    }\n\n    .dataframe tbody tr th {\n        vertical-align: top;\n    }\n\n    .dataframe thead th {\n        text-align: right;\n    }\n</style>\n<table border=\"1\" class=\"dataframe\">\n  <thead>\n    <tr style=\"text-align: right;\">\n      <th></th>\n      <th>individualstestedperconfirmedcase</th>\n      <th>positivecasesfromsamplesreported</th>\n      <th>samplereportedtoday</th>\n      <th>source</th>\n      <th>testpositivityrate</th>\n      <th>testsconductedbyprivatelabs</th>\n      <th>testsperconfirmedcase</th>\n      <th>totalindividualstested</th>\n      <th>totalpositivecases</th>\n      <th>totalsamplestested</th>\n      <th>updatetimestamp</th>\n    </tr>\n  </thead>\n  <tbody>\n    <tr>\n      <th>56</th>\n      <td></td>\n      <td></td>\n      <td></td>\n      <td>https://www.icmr.gov.in/pdf/covid/update/ICMR_...</td>\n      <td></td>\n      <td></td>\n      <td></td>\n      <td></td>\n      <td></td>\n      <td>1191946</td>\n      <td>05/05/2020 09:00:00</td>\n    </tr>\n    <tr>\n      <th>57</th>\n      <td></td>\n      <td></td>\n      <td></td>\n      <td>https://www.icmr.gov.in/pdf/covid/update/ICMR_...</td>\n      <td></td>\n      <td></td>\n      <td></td>\n      <td></td>\n      <td></td>\n      <td>1276781</td>\n      <td>06/05/2020 09:00:00</td>\n    </tr>\n    <tr>\n      <th>58</th>\n      <td></td>\n      <td></td>\n      <td></td>\n      <td>https://www.icmr.gov.in/pdf/covid/update/ICMR_...</td>\n      <td></td>\n      <td></td>\n      <td></td>\n      <td></td>\n      <td></td>\n      <td>1357413</td>\n      <td>07/05/2020 09:00:00</td>\n    </tr>\n    <tr>\n      <th>59</th>\n      <td></td>\n      <td></td>\n      <td></td>\n      <td>https://www.icmr.gov.in/pdf/covid/update/ICMR_...</td>\n      <td></td>\n      <td></td>\n      <td></td>\n      <td></td>\n      <td></td>\n      <td>1437788</td>\n      <td>08/05/2020 09:00:00</td>\n    </tr>\n    <tr>\n      <th>60</th>\n      <td></td>\n      <td></td>\n      <td></td>\n      <td>https://www.icmr.gov.in/pdf/covid/update/ICMR_...</td>\n      <td></td>\n      <td></td>\n      <td></td>\n      <td></td>\n      <td></td>\n      <td>1523213</td>\n      <td>09/05/2020 09:00:00</td>\n    </tr>\n  </tbody>\n</table>\n</div>"
     },
     "metadata": {},
     "execution_count": 4
    }
   ],
   "source": [
    "df = pd.DataFrame(data['tested'])\n",
    "df.to_csv('data/tested.csv', index=False)\n",
    "df.tail()"
   ]
  }
 ],
 "metadata": {
  "language_info": {
   "codemirror_mode": {
    "name": "ipython",
    "version": 3
   },
   "file_extension": ".py",
   "mimetype": "text/x-python",
   "name": "python",
   "nbconvert_exporter": "python",
   "pygments_lexer": "ipython3",
   "version": "3.8.2-final"
  },
  "orig_nbformat": 2,
  "kernelspec": {
   "name": "python3",
   "display_name": "Python 3"
  }
 },
 "nbformat": 4,
 "nbformat_minor": 2
}