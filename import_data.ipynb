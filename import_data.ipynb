{
 "cells": [
  {
   "cell_type": "code",
   "execution_count": 1,
   "metadata": {},
   "outputs": [],
   "source": [
    "from dotenv import load_dotenv\n",
    "import os\n",
    "import pandas as pd\n",
    "import requests"
   ]
  },
  {
   "cell_type": "code",
   "execution_count": 2,
   "metadata": {},
   "outputs": [
    {
     "output_type": "execute_result",
     "data": {
      "text/plain": "    dailyconfirmed dailydeceased dailyrecovered       date totalconfirmed  \\\n199          58096           952          57404 2020-08-16        2647318   \n200          54298           880          58172 2020-08-17        2701616   \n201          65024          1099          60455 2020-08-18        2766640   \n202          69196           979          59365 2020-08-19        2835836   \n203          68518           981          61873 2020-08-20        2904354   \n\n    totaldeceased totalrecovered  \n199         51048        1918069  \n200         51928        1976241  \n201         53027        2036696  \n202         54006        2096061  \n203         54987        2157934  ",
      "text/html": "<div>\n<style scoped>\n    .dataframe tbody tr th:only-of-type {\n        vertical-align: middle;\n    }\n\n    .dataframe tbody tr th {\n        vertical-align: top;\n    }\n\n    .dataframe thead th {\n        text-align: right;\n    }\n</style>\n<table border=\"1\" class=\"dataframe\">\n  <thead>\n    <tr style=\"text-align: right;\">\n      <th></th>\n      <th>dailyconfirmed</th>\n      <th>dailydeceased</th>\n      <th>dailyrecovered</th>\n      <th>date</th>\n      <th>totalconfirmed</th>\n      <th>totaldeceased</th>\n      <th>totalrecovered</th>\n    </tr>\n  </thead>\n  <tbody>\n    <tr>\n      <th>199</th>\n      <td>58096</td>\n      <td>952</td>\n      <td>57404</td>\n      <td>2020-08-16</td>\n      <td>2647318</td>\n      <td>51048</td>\n      <td>1918069</td>\n    </tr>\n    <tr>\n      <th>200</th>\n      <td>54298</td>\n      <td>880</td>\n      <td>58172</td>\n      <td>2020-08-17</td>\n      <td>2701616</td>\n      <td>51928</td>\n      <td>1976241</td>\n    </tr>\n    <tr>\n      <th>201</th>\n      <td>65024</td>\n      <td>1099</td>\n      <td>60455</td>\n      <td>2020-08-18</td>\n      <td>2766640</td>\n      <td>53027</td>\n      <td>2036696</td>\n    </tr>\n    <tr>\n      <th>202</th>\n      <td>69196</td>\n      <td>979</td>\n      <td>59365</td>\n      <td>2020-08-19</td>\n      <td>2835836</td>\n      <td>54006</td>\n      <td>2096061</td>\n    </tr>\n    <tr>\n      <th>203</th>\n      <td>68518</td>\n      <td>981</td>\n      <td>61873</td>\n      <td>2020-08-20</td>\n      <td>2904354</td>\n      <td>54987</td>\n      <td>2157934</td>\n    </tr>\n  </tbody>\n</table>\n</div>"
     },
     "metadata": {},
     "execution_count": 2
    }
   ],
   "source": [
    "load_dotenv()\n",
    "API_URL = os.getenv('API_URL')\n",
    "r = requests.get(API_URL)\n",
    "data = r.json()\n",
    "df = pd.DataFrame(data['cases_time_series'])\n",
    "df['date'] = pd.to_datetime(df['date'].astype(str) + ' 2020')\n",
    "df.tail()"
   ]
  },
  {
   "cell_type": "code",
   "execution_count": 3,
   "metadata": {},
   "outputs": [],
   "source": [
    "# df.to_json('data/data.json')\n",
    "df.to_csv('data/data.csv', index=False)"
   ]
  },
  {
   "cell_type": "code",
   "execution_count": 4,
   "metadata": {},
   "outputs": [
    {
     "output_type": "execute_result",
     "data": {
      "text/plain": "    individualstestedperconfirmedcase positivecasesfromsamplesreported  \\\n159                                                                      \n160                                                                      \n161                                                                      \n162                                                                      \n163                                                                      \n\n    samplereportedtoday                                             source  \\\n159              731697  http://twitter.com/ICMRDELHI/status/1295198089...   \n160              899864  https://twitter.com/ICMRDELHI/status/129556177...   \n161              801518  http://twitter.com/ICMRDELHI/status/1295929066...   \n162              918470  https://twitter.com/ICMRDELHI/status/129629641...   \n163              805985  http://twitter.com/ICMRDELHI/status/1296650359...   \n\n                                               source1  testedasof  \\\n159  https://t.me/Covid19india_Auxiliary_Test_Data/...  16/08/2020   \n160  https://t.me/Covid19india_Auxiliary_Test_Data/...  17/08/2020   \n161  https://t.me/Covid19india_Auxiliary_Test_Data/...  18/08/2020   \n162  https://t.me/Covid19india_Auxiliary_Test_Data/...  19/08/2020   \n163  https://t.me/Covid19india_Auxiliary_Test_Data/...  20/08/2020   \n\n    testpositivityrate testsconductedbyprivatelabs testsperconfirmedcase  \\\n159                                                                        \n160                                                                        \n161                                                                        \n162                                                                        \n163                                                                        \n\n    testspermillion totalindividualstested totalpositivecases  \\\n159           22538                                             \n160           23213                                             \n161           23815                                             \n162           24504                                             \n163           25109                                             \n\n    totalsamplestested      updatetimestamp  \n159           30041400  17/08/2020 09:00:00  \n160           30941264  18/08/2020 09:00:00  \n161           31742782  19/08/2020 09:00:00  \n162           32661252  20/08/2020 09:00:00  \n163           33467237  21/08/2020 09:00:00  ",
      "text/html": "<div>\n<style scoped>\n    .dataframe tbody tr th:only-of-type {\n        vertical-align: middle;\n    }\n\n    .dataframe tbody tr th {\n        vertical-align: top;\n    }\n\n    .dataframe thead th {\n        text-align: right;\n    }\n</style>\n<table border=\"1\" class=\"dataframe\">\n  <thead>\n    <tr style=\"text-align: right;\">\n      <th></th>\n      <th>individualstestedperconfirmedcase</th>\n      <th>positivecasesfromsamplesreported</th>\n      <th>samplereportedtoday</th>\n      <th>source</th>\n      <th>source1</th>\n      <th>testedasof</th>\n      <th>testpositivityrate</th>\n      <th>testsconductedbyprivatelabs</th>\n      <th>testsperconfirmedcase</th>\n      <th>testspermillion</th>\n      <th>totalindividualstested</th>\n      <th>totalpositivecases</th>\n      <th>totalsamplestested</th>\n      <th>updatetimestamp</th>\n    </tr>\n  </thead>\n  <tbody>\n    <tr>\n      <th>159</th>\n      <td></td>\n      <td></td>\n      <td>731697</td>\n      <td>http://twitter.com/ICMRDELHI/status/1295198089...</td>\n      <td>https://t.me/Covid19india_Auxiliary_Test_Data/...</td>\n      <td>16/08/2020</td>\n      <td></td>\n      <td></td>\n      <td></td>\n      <td>22538</td>\n      <td></td>\n      <td></td>\n      <td>30041400</td>\n      <td>17/08/2020 09:00:00</td>\n    </tr>\n    <tr>\n      <th>160</th>\n      <td></td>\n      <td></td>\n      <td>899864</td>\n      <td>https://twitter.com/ICMRDELHI/status/129556177...</td>\n      <td>https://t.me/Covid19india_Auxiliary_Test_Data/...</td>\n      <td>17/08/2020</td>\n      <td></td>\n      <td></td>\n      <td></td>\n      <td>23213</td>\n      <td></td>\n      <td></td>\n      <td>30941264</td>\n      <td>18/08/2020 09:00:00</td>\n    </tr>\n    <tr>\n      <th>161</th>\n      <td></td>\n      <td></td>\n      <td>801518</td>\n      <td>http://twitter.com/ICMRDELHI/status/1295929066...</td>\n      <td>https://t.me/Covid19india_Auxiliary_Test_Data/...</td>\n      <td>18/08/2020</td>\n      <td></td>\n      <td></td>\n      <td></td>\n      <td>23815</td>\n      <td></td>\n      <td></td>\n      <td>31742782</td>\n      <td>19/08/2020 09:00:00</td>\n    </tr>\n    <tr>\n      <th>162</th>\n      <td></td>\n      <td></td>\n      <td>918470</td>\n      <td>https://twitter.com/ICMRDELHI/status/129629641...</td>\n      <td>https://t.me/Covid19india_Auxiliary_Test_Data/...</td>\n      <td>19/08/2020</td>\n      <td></td>\n      <td></td>\n      <td></td>\n      <td>24504</td>\n      <td></td>\n      <td></td>\n      <td>32661252</td>\n      <td>20/08/2020 09:00:00</td>\n    </tr>\n    <tr>\n      <th>163</th>\n      <td></td>\n      <td></td>\n      <td>805985</td>\n      <td>http://twitter.com/ICMRDELHI/status/1296650359...</td>\n      <td>https://t.me/Covid19india_Auxiliary_Test_Data/...</td>\n      <td>20/08/2020</td>\n      <td></td>\n      <td></td>\n      <td></td>\n      <td>25109</td>\n      <td></td>\n      <td></td>\n      <td>33467237</td>\n      <td>21/08/2020 09:00:00</td>\n    </tr>\n  </tbody>\n</table>\n</div>"
     },
     "metadata": {},
     "execution_count": 4
    }
   ],
   "source": [
    "df = pd.DataFrame(data['tested'])\n",
    "df.to_csv('data/tested.csv', index=False)\n",
    "df.tail()"
   ]
  }
 ],
 "metadata": {
  "language_info": {
   "codemirror_mode": {
    "name": "ipython",
    "version": 3
   },
   "file_extension": ".py",
   "mimetype": "text/x-python",
   "name": "python",
   "nbconvert_exporter": "python",
   "pygments_lexer": "ipython3",
   "version": "3.8.2-final"
  },
  "orig_nbformat": 2,
  "kernelspec": {
   "name": "python38264bitcovidconda349f7b237d3d47a0b55ad129e8069ec8",
   "display_name": "Python 3.8.2 64-bit ('covid': conda)"
  }
 },
 "nbformat": 4,
 "nbformat_minor": 2
}