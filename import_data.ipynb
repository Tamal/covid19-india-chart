{
 "cells": [
  {
   "cell_type": "code",
   "execution_count": 1,
   "metadata": {},
   "outputs": [],
   "source": [
    "from dotenv import load_dotenv\n",
    "import os\n",
    "import pandas as pd\n",
    "import requests"
   ]
  },
  {
   "cell_type": "code",
   "execution_count": 2,
   "metadata": {},
   "outputs": [
    {
     "output_type": "execute_result",
     "data": {
      "text/plain": "   dailyconfirmed dailydeceased dailyrecovered       date totalconfirmed  \\\n91           1801            75            630 2020-04-30          34866   \n92           2396            77            962 2020-05-01          37262   \n93           2564            92            831 2020-05-02          39826   \n94           2952           140            911 2020-05-03          42778   \n95           3656           103           1082 2020-05-04          46434   \n\n   totaldeceased totalrecovered  \n91          1154           9059  \n92          1231          10021  \n93          1323          10852  \n94          1463          11763  \n95          1566          12845  ",
      "text/html": "<div>\n<style scoped>\n    .dataframe tbody tr th:only-of-type {\n        vertical-align: middle;\n    }\n\n    .dataframe tbody tr th {\n        vertical-align: top;\n    }\n\n    .dataframe thead th {\n        text-align: right;\n    }\n</style>\n<table border=\"1\" class=\"dataframe\">\n  <thead>\n    <tr style=\"text-align: right;\">\n      <th></th>\n      <th>dailyconfirmed</th>\n      <th>dailydeceased</th>\n      <th>dailyrecovered</th>\n      <th>date</th>\n      <th>totalconfirmed</th>\n      <th>totaldeceased</th>\n      <th>totalrecovered</th>\n    </tr>\n  </thead>\n  <tbody>\n    <tr>\n      <th>91</th>\n      <td>1801</td>\n      <td>75</td>\n      <td>630</td>\n      <td>2020-04-30</td>\n      <td>34866</td>\n      <td>1154</td>\n      <td>9059</td>\n    </tr>\n    <tr>\n      <th>92</th>\n      <td>2396</td>\n      <td>77</td>\n      <td>962</td>\n      <td>2020-05-01</td>\n      <td>37262</td>\n      <td>1231</td>\n      <td>10021</td>\n    </tr>\n    <tr>\n      <th>93</th>\n      <td>2564</td>\n      <td>92</td>\n      <td>831</td>\n      <td>2020-05-02</td>\n      <td>39826</td>\n      <td>1323</td>\n      <td>10852</td>\n    </tr>\n    <tr>\n      <th>94</th>\n      <td>2952</td>\n      <td>140</td>\n      <td>911</td>\n      <td>2020-05-03</td>\n      <td>42778</td>\n      <td>1463</td>\n      <td>11763</td>\n    </tr>\n    <tr>\n      <th>95</th>\n      <td>3656</td>\n      <td>103</td>\n      <td>1082</td>\n      <td>2020-05-04</td>\n      <td>46434</td>\n      <td>1566</td>\n      <td>12845</td>\n    </tr>\n  </tbody>\n</table>\n</div>"
     },
     "metadata": {},
     "execution_count": 2
    }
   ],
   "source": [
    "load_dotenv()\n",
    "API_URL = os.getenv('API_URL')\n",
    "r = requests.get(API_URL)\n",
    "data = r.json()\n",
    "df = pd.DataFrame(data['cases_time_series'])\n",
    "df['date'] = pd.to_datetime(df['date'].astype(str) + ' 2020')\n",
    "df.tail()"
   ]
  },
  {
   "cell_type": "code",
   "execution_count": 3,
   "metadata": {},
   "outputs": [],
   "source": [
    "# df.to_json('data/data.json')\n",
    "df.to_csv('data/data.csv', index=False)"
   ]
  },
  {
   "cell_type": "code",
   "execution_count": 4,
   "metadata": {},
   "outputs": [
    {
     "output_type": "execute_result",
     "data": {
      "text/plain": "   individualstestedperconfirmedcase positivecasesfromsamplesreported  \\\n52                                                                      \n53                                                                      \n54                                                                      \n55                                                                      \n56                                                                      \n\n   samplereportedtoday                                             source  \\\n52                      https://www.icmr.gov.in/pdf/covid/update/ICMR_...   \n53                      https://www.icmr.gov.in/pdf/covid/update/ICMR_...   \n54                      https://www.icmr.gov.in/pdf/covid/update/ICMR_...   \n55                      https://www.icmr.gov.in/pdf/covid/update/ICMR_...   \n56                      https://www.icmr.gov.in/pdf/covid/update/ICMR_...   \n\n   testpositivityrate testsconductedbyprivatelabs testsperconfirmedcase  \\\n52                                                                        \n53                                                                        \n54                                                                        \n55                                                                        \n56                                                                        \n\n   totalindividualstested totalpositivecases totalsamplestested  \\\n52                                                       902654   \n53                                                       976363   \n54                                                      1046450   \n55                                                      1107233   \n56                                                      1191946   \n\n        updatetimestamp  \n52  01/05/2020 09:00:00  \n53  02/05/2020 09:00:00  \n54  03/05/2020 09:00:00  \n55  04/05/2020 09:00:00  \n56  05/05/2020 09:00:00  ",
      "text/html": "<div>\n<style scoped>\n    .dataframe tbody tr th:only-of-type {\n        vertical-align: middle;\n    }\n\n    .dataframe tbody tr th {\n        vertical-align: top;\n    }\n\n    .dataframe thead th {\n        text-align: right;\n    }\n</style>\n<table border=\"1\" class=\"dataframe\">\n  <thead>\n    <tr style=\"text-align: right;\">\n      <th></th>\n      <th>individualstestedperconfirmedcase</th>\n      <th>positivecasesfromsamplesreported</th>\n      <th>samplereportedtoday</th>\n      <th>source</th>\n      <th>testpositivityrate</th>\n      <th>testsconductedbyprivatelabs</th>\n      <th>testsperconfirmedcase</th>\n      <th>totalindividualstested</th>\n      <th>totalpositivecases</th>\n      <th>totalsamplestested</th>\n      <th>updatetimestamp</th>\n    </tr>\n  </thead>\n  <tbody>\n    <tr>\n      <th>52</th>\n      <td></td>\n      <td></td>\n      <td></td>\n      <td>https://www.icmr.gov.in/pdf/covid/update/ICMR_...</td>\n      <td></td>\n      <td></td>\n      <td></td>\n      <td></td>\n      <td></td>\n      <td>902654</td>\n      <td>01/05/2020 09:00:00</td>\n    </tr>\n    <tr>\n      <th>53</th>\n      <td></td>\n      <td></td>\n      <td></td>\n      <td>https://www.icmr.gov.in/pdf/covid/update/ICMR_...</td>\n      <td></td>\n      <td></td>\n      <td></td>\n      <td></td>\n      <td></td>\n      <td>976363</td>\n      <td>02/05/2020 09:00:00</td>\n    </tr>\n    <tr>\n      <th>54</th>\n      <td></td>\n      <td></td>\n      <td></td>\n      <td>https://www.icmr.gov.in/pdf/covid/update/ICMR_...</td>\n      <td></td>\n      <td></td>\n      <td></td>\n      <td></td>\n      <td></td>\n      <td>1046450</td>\n      <td>03/05/2020 09:00:00</td>\n    </tr>\n    <tr>\n      <th>55</th>\n      <td></td>\n      <td></td>\n      <td></td>\n      <td>https://www.icmr.gov.in/pdf/covid/update/ICMR_...</td>\n      <td></td>\n      <td></td>\n      <td></td>\n      <td></td>\n      <td></td>\n      <td>1107233</td>\n      <td>04/05/2020 09:00:00</td>\n    </tr>\n    <tr>\n      <th>56</th>\n      <td></td>\n      <td></td>\n      <td></td>\n      <td>https://www.icmr.gov.in/pdf/covid/update/ICMR_...</td>\n      <td></td>\n      <td></td>\n      <td></td>\n      <td></td>\n      <td></td>\n      <td>1191946</td>\n      <td>05/05/2020 09:00:00</td>\n    </tr>\n  </tbody>\n</table>\n</div>"
     },
     "metadata": {},
     "execution_count": 4
    }
   ],
   "source": [
    "df = pd.DataFrame(data['tested'])\n",
    "df.to_csv('data/tested.csv', index=False)\n",
    "df.tail()"
   ]
  }
 ],
 "metadata": {
  "language_info": {
   "codemirror_mode": {
    "name": "ipython",
    "version": 3
   },
   "file_extension": ".py",
   "mimetype": "text/x-python",
   "name": "python",
   "nbconvert_exporter": "python",
   "pygments_lexer": "ipython3",
   "version": "3.8.2-final"
  },
  "orig_nbformat": 2,
  "kernelspec": {
   "name": "python3",
   "display_name": "Python 3"
  }
 },
 "nbformat": 4,
 "nbformat_minor": 2
}