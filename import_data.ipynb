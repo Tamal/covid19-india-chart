{
 "cells": [
  {
   "cell_type": "code",
   "execution_count": 1,
   "metadata": {},
   "outputs": [],
   "source": [
    "from dotenv import load_dotenv\n",
    "import os\n",
    "import pandas as pd\n",
    "import requests"
   ]
  },
  {
   "cell_type": "code",
   "execution_count": 2,
   "metadata": {},
   "outputs": [
    {
     "output_type": "execute_result",
     "data": {
      "text/plain": "    dailyconfirmed dailydeceased dailyrecovered       date totalconfirmed  \\\n135          12039           309           8092 2020-06-13         321638   \n136          11405           324           7358 2020-06-14         333043   \n137          10032           396          10639 2020-06-15         343075   \n138          11086          2004           7226 2020-06-16         354161   \n139          13107           341           6889 2020-06-17         367268   \n\n    totaldeceased totalrecovered  \n135          9198         162327  \n136          9522         169685  \n137          9918         180324  \n138         11922         187550  \n139         12263         194439  ",
      "text/html": "<div>\n<style scoped>\n    .dataframe tbody tr th:only-of-type {\n        vertical-align: middle;\n    }\n\n    .dataframe tbody tr th {\n        vertical-align: top;\n    }\n\n    .dataframe thead th {\n        text-align: right;\n    }\n</style>\n<table border=\"1\" class=\"dataframe\">\n  <thead>\n    <tr style=\"text-align: right;\">\n      <th></th>\n      <th>dailyconfirmed</th>\n      <th>dailydeceased</th>\n      <th>dailyrecovered</th>\n      <th>date</th>\n      <th>totalconfirmed</th>\n      <th>totaldeceased</th>\n      <th>totalrecovered</th>\n    </tr>\n  </thead>\n  <tbody>\n    <tr>\n      <th>135</th>\n      <td>12039</td>\n      <td>309</td>\n      <td>8092</td>\n      <td>2020-06-13</td>\n      <td>321638</td>\n      <td>9198</td>\n      <td>162327</td>\n    </tr>\n    <tr>\n      <th>136</th>\n      <td>11405</td>\n      <td>324</td>\n      <td>7358</td>\n      <td>2020-06-14</td>\n      <td>333043</td>\n      <td>9522</td>\n      <td>169685</td>\n    </tr>\n    <tr>\n      <th>137</th>\n      <td>10032</td>\n      <td>396</td>\n      <td>10639</td>\n      <td>2020-06-15</td>\n      <td>343075</td>\n      <td>9918</td>\n      <td>180324</td>\n    </tr>\n    <tr>\n      <th>138</th>\n      <td>11086</td>\n      <td>2004</td>\n      <td>7226</td>\n      <td>2020-06-16</td>\n      <td>354161</td>\n      <td>11922</td>\n      <td>187550</td>\n    </tr>\n    <tr>\n      <th>139</th>\n      <td>13107</td>\n      <td>341</td>\n      <td>6889</td>\n      <td>2020-06-17</td>\n      <td>367268</td>\n      <td>12263</td>\n      <td>194439</td>\n    </tr>\n  </tbody>\n</table>\n</div>"
     },
     "metadata": {},
     "execution_count": 2
    }
   ],
   "source": [
    "load_dotenv()\n",
    "API_URL = os.getenv('API_URL')\n",
    "r = requests.get(API_URL)\n",
    "data = r.json()\n",
    "df = pd.DataFrame(data['cases_time_series'])\n",
    "df['date'] = pd.to_datetime(df['date'].astype(str) + ' 2020')\n",
    "df.tail()"
   ]
  },
  {
   "cell_type": "code",
   "execution_count": 3,
   "metadata": {},
   "outputs": [],
   "source": [
    "# df.to_json('data/data.json')\n",
    "df.to_csv('data/data.csv', index=False)"
   ]
  },
  {
   "cell_type": "code",
   "execution_count": 4,
   "metadata": {},
   "outputs": [
    {
     "output_type": "execute_result",
     "data": {
      "text/plain": "   individualstestedperconfirmedcase positivecasesfromsamplesreported  \\\n94                                                                      \n95                                                                      \n96                                                                      \n97                                                                      \n98                                                                      \n\n   samplereportedtoday                                             source  \\\n94              143737  https://twitter.com/ICMRDELHI/status/127165296...   \n95              151432  https://t.me/Covid19india_Auxiliary_Test_Data/448   \n96              115519  https://t.me/Covid19india_Auxiliary_Test_Data/472   \n97              154935  https://t.me/Covid19india_Auxiliary_Test_Data/490   \n98              163187  https://t.me/Covid19india_Auxiliary_Test_Data/509   \n\n   testpositivityrate testsconductedbyprivatelabs testsperconfirmedcase  \\\n94                                                                        \n95                                                                        \n96                                                                        \n97                                                                        \n98                                                                        \n\n   testspermillion totalindividualstested totalpositivecases  \\\n94            4132                                             \n95                                                             \n96                                                             \n97                                                             \n98                                                             \n\n   totalsamplestested      updatetimestamp  \n94            5507182  13/06/2020 09:00:00  \n95            5658614  14/06/2020 09:00:00  \n96            5774133  15/06/2020 09:00:00  \n97            5921069  16/06/2020 09:00:00  \n98            6084256  17/06/2020 09:00:00  ",
      "text/html": "<div>\n<style scoped>\n    .dataframe tbody tr th:only-of-type {\n        vertical-align: middle;\n    }\n\n    .dataframe tbody tr th {\n        vertical-align: top;\n    }\n\n    .dataframe thead th {\n        text-align: right;\n    }\n</style>\n<table border=\"1\" class=\"dataframe\">\n  <thead>\n    <tr style=\"text-align: right;\">\n      <th></th>\n      <th>individualstestedperconfirmedcase</th>\n      <th>positivecasesfromsamplesreported</th>\n      <th>samplereportedtoday</th>\n      <th>source</th>\n      <th>testpositivityrate</th>\n      <th>testsconductedbyprivatelabs</th>\n      <th>testsperconfirmedcase</th>\n      <th>testspermillion</th>\n      <th>totalindividualstested</th>\n      <th>totalpositivecases</th>\n      <th>totalsamplestested</th>\n      <th>updatetimestamp</th>\n    </tr>\n  </thead>\n  <tbody>\n    <tr>\n      <th>94</th>\n      <td></td>\n      <td></td>\n      <td>143737</td>\n      <td>https://twitter.com/ICMRDELHI/status/127165296...</td>\n      <td></td>\n      <td></td>\n      <td></td>\n      <td>4132</td>\n      <td></td>\n      <td></td>\n      <td>5507182</td>\n      <td>13/06/2020 09:00:00</td>\n    </tr>\n    <tr>\n      <th>95</th>\n      <td></td>\n      <td></td>\n      <td>151432</td>\n      <td>https://t.me/Covid19india_Auxiliary_Test_Data/448</td>\n      <td></td>\n      <td></td>\n      <td></td>\n      <td></td>\n      <td></td>\n      <td></td>\n      <td>5658614</td>\n      <td>14/06/2020 09:00:00</td>\n    </tr>\n    <tr>\n      <th>96</th>\n      <td></td>\n      <td></td>\n      <td>115519</td>\n      <td>https://t.me/Covid19india_Auxiliary_Test_Data/472</td>\n      <td></td>\n      <td></td>\n      <td></td>\n      <td></td>\n      <td></td>\n      <td></td>\n      <td>5774133</td>\n      <td>15/06/2020 09:00:00</td>\n    </tr>\n    <tr>\n      <th>97</th>\n      <td></td>\n      <td></td>\n      <td>154935</td>\n      <td>https://t.me/Covid19india_Auxiliary_Test_Data/490</td>\n      <td></td>\n      <td></td>\n      <td></td>\n      <td></td>\n      <td></td>\n      <td></td>\n      <td>5921069</td>\n      <td>16/06/2020 09:00:00</td>\n    </tr>\n    <tr>\n      <th>98</th>\n      <td></td>\n      <td></td>\n      <td>163187</td>\n      <td>https://t.me/Covid19india_Auxiliary_Test_Data/509</td>\n      <td></td>\n      <td></td>\n      <td></td>\n      <td></td>\n      <td></td>\n      <td></td>\n      <td>6084256</td>\n      <td>17/06/2020 09:00:00</td>\n    </tr>\n  </tbody>\n</table>\n</div>"
     },
     "metadata": {},
     "execution_count": 4
    }
   ],
   "source": [
    "df = pd.DataFrame(data['tested'])\n",
    "df.to_csv('data/tested.csv', index=False)\n",
    "df.tail()"
   ]
  }
 ],
 "metadata": {
  "language_info": {
   "codemirror_mode": {
    "name": "ipython",
    "version": 3
   },
   "file_extension": ".py",
   "mimetype": "text/x-python",
   "name": "python",
   "nbconvert_exporter": "python",
   "pygments_lexer": "ipython3",
   "version": "3.8.2-final"
  },
  "orig_nbformat": 2,
  "kernelspec": {
   "name": "python38264bitcovidconda349f7b237d3d47a0b55ad129e8069ec8",
   "display_name": "Python 3.8.2 64-bit ('covid': conda)"
  }
 },
 "nbformat": 4,
 "nbformat_minor": 2
}